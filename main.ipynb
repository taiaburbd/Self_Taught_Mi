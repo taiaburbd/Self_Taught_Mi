{
 "cells": [
  {
   "cell_type": "code",
   "execution_count": 3,
   "metadata": {},
   "outputs": [
    {
     "name": "stderr",
     "output_type": "stream",
     "text": [
      "ERROR:root:There was a problem retrieving data from: static/assets/dicom/image-000001.dcm\n",
      "\u001b[0m\u001b[31m2023-12-09 00:23:25.250 (  49.352s) [           B7CE2]vtkDICOMImageReader.cxx:314    ERR| vtkDICOMImageReader (0x7f8aeb2ce320): There was a problem retrieving data from: static/assets/dicom/image-000001.dcm\u001b[0m\n",
      "ERROR:root:Algorithm vtkDICOMImageReader (0x7f8aeb2ce320) returned failure for request: vtkInformation (0x7f8adb480e40)\n",
      "\u001b[0m\u001b[31m2023-12-09 00:23:25.252 (  49.353s) [           B7CE2]       vtkExecutive.cxx:730    ERR| vtkCompositeDataPipeline (0x7f8adb0d2d60): Algorithm vtkDICOMImageReader (0x7f8aeb2ce320) returned failure for request: vtkInformation (0x7f8adb480e40)\n",
      "  Debug: Off\n",
      "  Modified Time: 219\n",
      "  Reference Count: 1\n",
      "  Registered Events: (none)\n",
      "  Request: REQUEST_DATA\n",
      "  FROM_OUTPUT_PORT: 0\n",
      "  ALGORITHM_AFTER_FORWARD: 1\n",
      "  FORWARD_DIRECTION: 0\n",
      "\n",
      "\u001b[0m\n",
      "/opt/anaconda3/envs/env_tf/lib/python3.9/site-packages/pyvista/plotting/plotter.py:4235: RuntimeWarning: invalid value encountered in divide\n",
      "  np.true_divide((scalars - min_), (max_ - min_) / 255, out=scalars, casting='unsafe')\n",
      "/opt/anaconda3/envs/env_tf/lib/python3.9/site-packages/pyvista/plotting/renderer.py:1456: PyVistaDeprecationWarning: `xlabel` is deprecated. Use `xtitle` instead.\n",
      "  warnings.warn(\n",
      "/opt/anaconda3/envs/env_tf/lib/python3.9/site-packages/pyvista/plotting/renderer.py:1462: PyVistaDeprecationWarning: `ylabel` is deprecated. Use `ytitle` instead.\n",
      "  warnings.warn(\n",
      "/opt/anaconda3/envs/env_tf/lib/python3.9/site-packages/pyvista/plotting/renderer.py:1468: PyVistaDeprecationWarning: `zlabel` is deprecated. Use `ztitle` instead.\n",
      "  warnings.warn(\n"
     ]
    },
    {
     "ename": "TypeError",
     "evalue": "'int' object is not subscriptable",
     "output_type": "error",
     "traceback": [
      "\u001b[0;31m---------------------------------------------------------------------------\u001b[0m",
      "\u001b[0;31mTypeError\u001b[0m                                 Traceback (most recent call last)",
      "\u001b[1;32m/Users/taiaburrahman/Desktop/git/Self_Taught_Mi/main.ipynb Cell 1\u001b[0m line \u001b[0;36m3\n\u001b[1;32m     <a href='vscode-notebook-cell:/Users/taiaburrahman/Desktop/git/Self_Taught_Mi/main.ipynb#W0sZmlsZQ%3D%3D?line=32'>33</a>\u001b[0m image_data \u001b[39m=\u001b[39m load_dicom_series(dicom_directory)\n\u001b[1;32m     <a href='vscode-notebook-cell:/Users/taiaburrahman/Desktop/git/Self_Taught_Mi/main.ipynb#W0sZmlsZQ%3D%3D?line=34'>35</a>\u001b[0m \u001b[39m# Axial\u001b[39;00m\n\u001b[0;32m---> <a href='vscode-notebook-cell:/Users/taiaburrahman/Desktop/git/Self_Taught_Mi/main.ipynb#W0sZmlsZQ%3D%3D?line=35'>36</a>\u001b[0m axial_widget \u001b[39m=\u001b[39m create_plane_widget(pv\u001b[39m.\u001b[39;49mPlotter(), \u001b[39m\"\u001b[39;49m\u001b[39maxial\u001b[39;49m\u001b[39m\"\u001b[39;49m, image_data\u001b[39m.\u001b[39;49mGetDimensions()[\u001b[39m2\u001b[39;49m] \u001b[39m/\u001b[39;49m\u001b[39m/\u001b[39;49m \u001b[39m2\u001b[39;49m, image_data)\n\u001b[1;32m     <a href='vscode-notebook-cell:/Users/taiaburrahman/Desktop/git/Self_Taught_Mi/main.ipynb#W0sZmlsZQ%3D%3D?line=37'>38</a>\u001b[0m \u001b[39m# Coronal\u001b[39;00m\n\u001b[1;32m     <a href='vscode-notebook-cell:/Users/taiaburrahman/Desktop/git/Self_Taught_Mi/main.ipynb#W0sZmlsZQ%3D%3D?line=38'>39</a>\u001b[0m coronal_widget \u001b[39m=\u001b[39m create_plane_widget(pv\u001b[39m.\u001b[39mPlotter(), \u001b[39m\"\u001b[39m\u001b[39mcoronal\u001b[39m\u001b[39m\"\u001b[39m, image_data\u001b[39m.\u001b[39mGetDimensions()[\u001b[39m1\u001b[39m] \u001b[39m/\u001b[39m\u001b[39m/\u001b[39m \u001b[39m2\u001b[39m, image_data)\n",
      "\u001b[1;32m/Users/taiaburrahman/Desktop/git/Self_Taught_Mi/main.ipynb Cell 1\u001b[0m line \u001b[0;36m1\n\u001b[1;32m     <a href='vscode-notebook-cell:/Users/taiaburrahman/Desktop/git/Self_Taught_Mi/main.ipynb#W0sZmlsZQ%3D%3D?line=14'>15</a>\u001b[0m     plane_widget\u001b[39m.\u001b[39mshow_grid(xlabel\u001b[39m=\u001b[39m\u001b[39m'\u001b[39m\u001b[39mX\u001b[39m\u001b[39m'\u001b[39m, ylabel\u001b[39m=\u001b[39m\u001b[39m'\u001b[39m\u001b[39mY\u001b[39m\u001b[39m'\u001b[39m, zlabel\u001b[39m=\u001b[39m\u001b[39m'\u001b[39m\u001b[39mZ\u001b[39m\u001b[39m'\u001b[39m)\n\u001b[1;32m     <a href='vscode-notebook-cell:/Users/taiaburrahman/Desktop/git/Self_Taught_Mi/main.ipynb#W0sZmlsZQ%3D%3D?line=15'>16</a>\u001b[0m     plane_widget\u001b[39m.\u001b[39mshow_axes()\n\u001b[0;32m---> <a href='vscode-notebook-cell:/Users/taiaburrahman/Desktop/git/Self_Taught_Mi/main.ipynb#W0sZmlsZQ%3D%3D?line=16'>17</a>\u001b[0m     plane_widget\u001b[39m.\u001b[39;49mset_position(slice_index)\n\u001b[1;32m     <a href='vscode-notebook-cell:/Users/taiaburrahman/Desktop/git/Self_Taught_Mi/main.ipynb#W0sZmlsZQ%3D%3D?line=17'>18</a>\u001b[0m \u001b[39melif\u001b[39;00m orientation \u001b[39m==\u001b[39m \u001b[39m\"\u001b[39m\u001b[39mcoronal\u001b[39m\u001b[39m\"\u001b[39m:\n\u001b[1;32m     <a href='vscode-notebook-cell:/Users/taiaburrahman/Desktop/git/Self_Taught_Mi/main.ipynb#W0sZmlsZQ%3D%3D?line=18'>19</a>\u001b[0m     plane_widget\u001b[39m.\u001b[39mshow_grid(xlabel\u001b[39m=\u001b[39m\u001b[39m'\u001b[39m\u001b[39mX\u001b[39m\u001b[39m'\u001b[39m, ylabel\u001b[39m=\u001b[39m\u001b[39m'\u001b[39m\u001b[39mZ\u001b[39m\u001b[39m'\u001b[39m, zlabel\u001b[39m=\u001b[39m\u001b[39m'\u001b[39m\u001b[39mY\u001b[39m\u001b[39m'\u001b[39m)\n",
      "File \u001b[0;32m/opt/anaconda3/envs/env_tf/lib/python3.9/site-packages/pyvista/plotting/plotter.py:1217\u001b[0m, in \u001b[0;36mBasePlotter.set_position\u001b[0;34m(self, render, *args, **kwargs)\u001b[0m\n\u001b[1;32m   1214\u001b[0m \u001b[39m@wraps\u001b[39m(Renderer\u001b[39m.\u001b[39mset_position)\n\u001b[1;32m   1215\u001b[0m \u001b[39mdef\u001b[39;00m \u001b[39mset_position\u001b[39m(\u001b[39mself\u001b[39m, \u001b[39m*\u001b[39margs, render\u001b[39m=\u001b[39m\u001b[39mTrue\u001b[39;00m, \u001b[39m*\u001b[39m\u001b[39m*\u001b[39mkwargs):  \u001b[39m# numpydoc ignore=PR01,RT01\u001b[39;00m\n\u001b[1;32m   1216\u001b[0m \u001b[39m    \u001b[39m\u001b[39m\"\"\"Wrap ``Renderer.set_position``.\"\"\"\u001b[39;00m\n\u001b[0;32m-> 1217\u001b[0m     \u001b[39mself\u001b[39;49m\u001b[39m.\u001b[39;49mrenderer\u001b[39m.\u001b[39;49mset_position(\u001b[39m*\u001b[39;49margs, \u001b[39m*\u001b[39;49m\u001b[39m*\u001b[39;49mkwargs)\n\u001b[1;32m   1218\u001b[0m     \u001b[39mif\u001b[39;00m render:\n\u001b[1;32m   1219\u001b[0m         \u001b[39mself\u001b[39m\u001b[39m.\u001b[39mrender()\n",
      "File \u001b[0;32m/opt/anaconda3/envs/env_tf/lib/python3.9/site-packages/pyvista/plotting/renderer.py:2161\u001b[0m, in \u001b[0;36mRenderer.set_position\u001b[0;34m(self, point, reset, render)\u001b[0m\n\u001b[1;32m   2159\u001b[0m     \u001b[39mif\u001b[39;00m point\u001b[39m.\u001b[39mndim \u001b[39m!=\u001b[39m \u001b[39m1\u001b[39m:\n\u001b[1;32m   2160\u001b[0m         point \u001b[39m=\u001b[39m point\u001b[39m.\u001b[39mravel()\n\u001b[0;32m-> 2161\u001b[0m \u001b[39mself\u001b[39m\u001b[39m.\u001b[39mcamera\u001b[39m.\u001b[39mposition \u001b[39m=\u001b[39m scale_point(\u001b[39mself\u001b[39;49m\u001b[39m.\u001b[39;49mcamera, point, invert\u001b[39m=\u001b[39;49m\u001b[39mFalse\u001b[39;49;00m)\n\u001b[1;32m   2162\u001b[0m \u001b[39mif\u001b[39;00m reset:\n\u001b[1;32m   2163\u001b[0m     \u001b[39mself\u001b[39m\u001b[39m.\u001b[39mreset_camera(render\u001b[39m=\u001b[39mrender)\n",
      "File \u001b[0;32m/opt/anaconda3/envs/env_tf/lib/python3.9/site-packages/pyvista/plotting/renderer.py:160\u001b[0m, in \u001b[0;36mscale_point\u001b[0;34m(camera, point, invert)\u001b[0m\n\u001b[1;32m    158\u001b[0m \u001b[39melse\u001b[39;00m:\n\u001b[1;32m    159\u001b[0m     mtx \u001b[39m=\u001b[39m camera\u001b[39m.\u001b[39mGetModelTransformMatrix()\n\u001b[0;32m--> 160\u001b[0m scaled \u001b[39m=\u001b[39m mtx\u001b[39m.\u001b[39mMultiplyDoublePoint((point[\u001b[39m0\u001b[39;49m], point[\u001b[39m1\u001b[39m], point[\u001b[39m2\u001b[39m], \u001b[39m0.0\u001b[39m))\n\u001b[1;32m    161\u001b[0m \u001b[39mreturn\u001b[39;00m (scaled[\u001b[39m0\u001b[39m], scaled[\u001b[39m1\u001b[39m], scaled[\u001b[39m2\u001b[39m])\n",
      "\u001b[0;31mTypeError\u001b[0m: 'int' object is not subscriptable"
     ]
    }
   ],
   "source": [
    "import vtk\n",
    "import pyvista as pv\n",
    "\n",
    "def load_dicom_series(directory):\n",
    "    reader = vtk.vtkDICOMImageReader()\n",
    "    reader.SetDirectoryName(directory)\n",
    "    reader.Update()\n",
    "    return reader.GetOutput()\n",
    "\n",
    "def create_plane_widget(plotter, orientation, slice_index, image_data):\n",
    "    plane_widget = pv.Plotter()\n",
    "    plane_widget.add_volume(image_data, cmap=\"gray\", opacity=\"linear\", n_colors=256)\n",
    "    \n",
    "    if orientation == \"axial\":\n",
    "        plane_widget.show_grid(xlabel='X', ylabel='Y', zlabel='Z')\n",
    "        plane_widget.show_axes()\n",
    "        plane_widget.set_position(slice_index)\n",
    "    elif orientation == \"coronal\":\n",
    "        plane_widget.show_grid(xlabel='X', ylabel='Z', zlabel='Y')\n",
    "        plane_widget.show_axes()\n",
    "        plane_widget.view_isometric()\n",
    "        plane_widget.set_position(slice_index, 'y')\n",
    "    elif orientation == \"sagittal\":\n",
    "        plane_widget.show_grid(xlabel='Y', ylabel='Z', zlabel='X')\n",
    "        plane_widget.show_axes()\n",
    "        plane_widget.view_isometric()\n",
    "        plane_widget.set_position(slice_index, 'x')\n",
    "    \n",
    "    return plane_widget\n",
    "\n",
    "# Replace with the path to your DICOM series directory\n",
    "dicom_directory = \"static/assets/dicom\"\n",
    "image_data = load_dicom_series(dicom_directory)\n",
    "\n",
    "# Axial\n",
    "axial_widget = create_plane_widget(pv.Plotter(), \"axial\", image_data.GetDimensions()[2] // 2, image_data)\n",
    "\n",
    "# Coronal\n",
    "coronal_widget = create_plane_widget(pv.Plotter(), \"coronal\", image_data.GetDimensions()[1] // 2, image_data)\n",
    "\n",
    "# Sagittal\n",
    "sagittal_widget = create_plane_widget(pv.Plotter(), \"sagittal\", image_data.GetDimensions()[0] // 2, image_data)\n",
    "\n",
    "# Display the plots\n",
    "axial_widget.show(title=\"Axial Plane\")\n",
    "coronal_widget.show(title=\"Coronal Plane\")\n",
    "sagittal_widget.show(title=\"Sagittal Plane\")\n"
   ]
  }
 ],
 "metadata": {
  "kernelspec": {
   "display_name": "Python 3",
   "language": "python",
   "name": "python3"
  },
  "language_info": {
   "codemirror_mode": {
    "name": "ipython",
    "version": 3
   },
   "file_extension": ".py",
   "mimetype": "text/x-python",
   "name": "python",
   "nbconvert_exporter": "python",
   "pygments_lexer": "ipython3",
   "version": "3.9.18"
  }
 },
 "nbformat": 4,
 "nbformat_minor": 2
}
